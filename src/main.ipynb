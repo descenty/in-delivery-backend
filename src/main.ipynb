{
 "cells": [
  {
   "cell_type": "code",
   "execution_count": 2,
   "metadata": {},
   "outputs": [
    {
     "ename": "ImportError",
     "evalue": "cannot import name 'get_app_configuration' from 'configuration.current' (c:\\VS Code Projects\\in-delivery-backend\\src\\configuration\\current.py)",
     "output_type": "error",
     "traceback": [
      "\u001b[1;31m---------------------------------------------------------------------------\u001b[0m",
      "\u001b[1;31mImportError\u001b[0m                               Traceback (most recent call last)",
      "Cell \u001b[1;32mIn[2], line 2\u001b[0m\n\u001b[0;32m      1\u001b[0m \u001b[38;5;28;01mfrom\u001b[39;00m \u001b[38;5;21;01mconfiguration\u001b[39;00m\u001b[38;5;21;01m.\u001b[39;00m\u001b[38;5;21;01mapp\u001b[39;00m \u001b[38;5;28;01mimport\u001b[39;00m AppConfiguration\n\u001b[1;32m----> 2\u001b[0m \u001b[38;5;28;01mfrom\u001b[39;00m \u001b[38;5;21;01mconfiguration\u001b[39;00m\u001b[38;5;21;01m.\u001b[39;00m\u001b[38;5;21;01mcurrent\u001b[39;00m \u001b[38;5;28;01mimport\u001b[39;00m get_app_configuration\n\u001b[0;32m      3\u001b[0m \u001b[38;5;28;01mfrom\u001b[39;00m \u001b[38;5;21;01mdb\u001b[39;00m \u001b[38;5;28;01mimport\u001b[39;00m get_connection_pool\n\u001b[0;32m      5\u001b[0m \u001b[38;5;28;01mfrom\u001b[39;00m \u001b[38;5;21;01mservices\u001b[39;00m\u001b[38;5;21;01m.\u001b[39;00m\u001b[38;5;21;01mcategory_service\u001b[39;00m \u001b[38;5;28;01mimport\u001b[39;00m CategoryService\n",
      "\u001b[1;31mImportError\u001b[0m: cannot import name 'get_app_configuration' from 'configuration.current' (c:\\VS Code Projects\\in-delivery-backend\\src\\configuration\\current.py)"
     ]
    }
   ],
   "source": [
    "from configuration.app import AppConfiguration\n",
    "from configuration.current import get_app_configuration\n",
    "from db import get_connection_pool\n",
    "\n",
    "from services.category_service import CategoryService\n",
    "from core.config import settings\n",
    "\n",
    "app_configuration: AppConfiguration = await get_app_configuration(conn_pool=await get_connection_pool(settings.postgres))\n",
    "\n",
    "print(app_configuration.get_service(CategoryService))"
   ]
  },
  {
   "cell_type": "code",
   "execution_count": 1,
   "metadata": {},
   "outputs": [
    {
     "name": "stdout",
     "output_type": "stream",
     "text": [
      "31e81fdf-8f61-4da6-a02a-1e33553e78f1\n",
      "access_token='eyJhbGciOiJSUzI1NiIsInR5cCIgOiAiSldUIiwia2lkIiA6ICJHWHhKZi1jOUwzb0tqUkN1SVh3alpkUEJBMmk4VFBBSWc5ZWZQRGxRdG9rIn0.eyJleHAiOjE3MDI2NTUyMDAsImlhdCI6MTcwMjY1NDkwMCwianRpIjoiODI1ZjNlNDYtOWU5Ni00Yzc3LTkwZjgtZmI5ZWMxZjhkYjFhIiwiaXNzIjoiaHR0cHM6Ly9kZXNjZW50eS5ydTo4NDQzL3JlYWxtcy9pbi1kZWxpdmVyeSIsImF1ZCI6ImFjY291bnQiLCJzdWIiOiIzMWU4MWZkZi04ZjYxLTRkYTYtYTAyYS0xZTMzNTUzZTc4ZjEiLCJ0eXAiOiJCZWFyZXIiLCJhenAiOiJiYWNrZW5kIiwic2Vzc2lvbl9zdGF0ZSI6IjgwOTYyYzQyLTliMDQtNDFkNS1hZmYzLTRhYzE3MDcxNmNjYyIsImFjciI6IjEiLCJhbGxvd2VkLW9yaWdpbnMiOlsiKiJdLCJyZWFsbV9hY2Nlc3MiOnsicm9sZXMiOlsiZGVmYXVsdC1yb2xlcy1pbi1kZWxpdmVyeSIsIm9mZmxpbmVfYWNjZXNzIiwidW1hX2F1dGhvcml6YXRpb24iXX0sInJlc291cmNlX2FjY2VzcyI6eyJhY2NvdW50Ijp7InJvbGVzIjpbIm1hbmFnZS1hY2NvdW50IiwibWFuYWdlLWFjY291bnQtbGlua3MiLCJ2aWV3LXByb2ZpbGUiXX19LCJzY29wZSI6InByb2ZpbGUgZW1haWwiLCJzaWQiOiI4MDk2MmM0Mi05YjA0LTQxZDUtYWZmMy00YWMxNzA3MTZjY2MiLCJlbWFpbF92ZXJpZmllZCI6ZmFsc2UsInByZWZlcnJlZF91c2VybmFtZSI6ImQzdmVydHlAeWFuZGV4LnJ1IiwiZW1haWwiOiJkM3ZlcnR5QHlhbmRleC5ydSJ9.bmFzzYhA14_4JCN4YW5BnwehqoHOWMxObfyN9ymOxXOdL4xGzid8d6uyuuwPVRwnAmnNLDI8suk7zdrgiJvG6hfsXrdF0NIhSgylfg_uWdgWkLZcC6XWT2vw_8GsYZ2535gMO3wB6vPrcQYD6jxaoXBgCFnkrfZUULZubUDIuKsXZ3nKLfzKhHUln-d4oEgiDFXrwlYbstBNwW0SeTck_4gbWcxcDlmdnJhcVT35VHkifdmrGNvLeQNfbBaEyuPUWTjIonFXIscoR8IwFhaZ5jIeNXjlWJmA0pQVHWheSZZlTHYDj4I7b6iMhhKWJnClDcFGg30d01FWE3a4Pwi_Qg' expires_in=300 refresh_token='eyJhbGciOiJIUzI1NiIsInR5cCIgOiAiSldUIiwia2lkIiA6ICJiZTdhYTg1OC1kOTYyLTQ5OWYtOTA3NS0xMjNhYzhjMjA1MTQifQ.eyJleHAiOjE3MDI2NTY3MDAsImlhdCI6MTcwMjY1NDkwMCwianRpIjoiOGRkZDM0NDktN2IzMy00MTM3LTg5OTItNjlmMGY5NmY2YjQyIiwiaXNzIjoiaHR0cHM6Ly9kZXNjZW50eS5ydTo4NDQzL3JlYWxtcy9pbi1kZWxpdmVyeSIsImF1ZCI6Imh0dHBzOi8vZGVzY2VudHkucnU6ODQ0My9yZWFsbXMvaW4tZGVsaXZlcnkiLCJzdWIiOiIzMWU4MWZkZi04ZjYxLTRkYTYtYTAyYS0xZTMzNTUzZTc4ZjEiLCJ0eXAiOiJSZWZyZXNoIiwiYXpwIjoiYmFja2VuZCIsInNlc3Npb25fc3RhdGUiOiI4MDk2MmM0Mi05YjA0LTQxZDUtYWZmMy00YWMxNzA3MTZjY2MiLCJzY29wZSI6InByb2ZpbGUgZW1haWwiLCJzaWQiOiI4MDk2MmM0Mi05YjA0LTQxZDUtYWZmMy00YWMxNzA3MTZjY2MifQ.qnWEzmZzZrVG7vlhNUdB0mLJ7zI4gDljlVAy0Wtlua0' refresh_expires_in=1800\n"
     ]
    }
   ],
   "source": [
    "from schemas.auth import AuthRequest\n",
    "from services.auth_service import AuthServiceImpl\n",
    "\n",
    "from dotenv import load_dotenv\n",
    "\n",
    "load_dotenv(\"../\")\n",
    "\n",
    "auth_service = AuthServiceImpl()\n",
    "\n",
    "username=\"d3verty@yandex.ru\"\n",
    "password=\"qweasdzxc\"\n",
    "\n",
    "print(await auth_service.signup(AuthRequest(username=username, password=password)))\n",
    "print(await auth_service.signin(AuthRequest(username=username, password=password)))"
   ]
  }
 ],
 "metadata": {
  "kernelspec": {
   "display_name": "in-delivery-backend-vlLOVwEN-py3.12",
   "language": "python",
   "name": "python3"
  },
  "language_info": {
   "codemirror_mode": {
    "name": "ipython",
    "version": 3
   },
   "file_extension": ".py",
   "mimetype": "text/x-python",
   "name": "python",
   "nbconvert_exporter": "python",
   "pygments_lexer": "ipython3",
   "version": "3.12.1"
  }
 },
 "nbformat": 4,
 "nbformat_minor": 2
}
