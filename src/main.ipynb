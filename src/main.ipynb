{
 "cells": [
  {
   "cell_type": "code",
   "execution_count": 1,
   "metadata": {},
   "outputs": [
    {
     "ename": "TypeError",
     "evalue": "Repository.__init__() got an unexpected keyword argument 'conn_pool'",
     "output_type": "error",
     "traceback": [
      "\u001b[1;31m---------------------------------------------------------------------------\u001b[0m",
      "\u001b[1;31mTypeError\u001b[0m                                 Traceback (most recent call last)",
      "Cell \u001b[1;32mIn[1], line 10\u001b[0m\n\u001b[0;32m      6\u001b[0m \u001b[38;5;28;01mfrom\u001b[39;00m \u001b[38;5;21;01mcore\u001b[39;00m\u001b[38;5;21;01m.\u001b[39;00m\u001b[38;5;21;01mconfig\u001b[39;00m \u001b[38;5;28;01mimport\u001b[39;00m settings\n\u001b[0;32m      8\u001b[0m app_configuration: AppConfiguration \u001b[38;5;241m=\u001b[39m \u001b[38;5;28;01mawait\u001b[39;00m get_app_configuration(conn_pool\u001b[38;5;241m=\u001b[39m\u001b[38;5;28;01mawait\u001b[39;00m get_connection_pool(settings\u001b[38;5;241m.\u001b[39mpostgres))\n\u001b[1;32m---> 10\u001b[0m \u001b[38;5;28mprint\u001b[39m(\u001b[43mapp_configuration\u001b[49m\u001b[38;5;241;43m.\u001b[39;49m\u001b[43mget_service\u001b[49m\u001b[43m(\u001b[49m\u001b[43mCategoryService\u001b[49m\u001b[43m)\u001b[49m)\n",
      "File \u001b[1;32mc:\\VS Code Projects\\in-delivery-backend\\src\\configuration\\app.py:54\u001b[0m, in \u001b[0;36mAppConfiguration.get_service\u001b[1;34m(self, service_type)\u001b[0m\n\u001b[0;32m     49\u001b[0m target_service \u001b[38;5;241m=\u001b[39m \u001b[38;5;28mgetattr\u001b[39m(\n\u001b[0;32m     50\u001b[0m     \u001b[38;5;28mself\u001b[39m\u001b[38;5;241m.\u001b[39mservices, re\u001b[38;5;241m.\u001b[39msub(camel_pattern, \u001b[38;5;124m\"\u001b[39m\u001b[38;5;124m_\u001b[39m\u001b[38;5;124m\"\u001b[39m, service_type\u001b[38;5;241m.\u001b[39m\u001b[38;5;18m__name__\u001b[39m)\u001b[38;5;241m.\u001b[39mlower()\n\u001b[0;32m     51\u001b[0m )\n\u001b[0;32m     52\u001b[0m \u001b[38;5;28;01mif\u001b[39;00m service_type \u001b[38;5;129;01mnot\u001b[39;00m \u001b[38;5;129;01min\u001b[39;00m \u001b[38;5;28mself\u001b[39m\u001b[38;5;241m.\u001b[39mservices_instances:\n\u001b[0;32m     53\u001b[0m     \u001b[38;5;28mself\u001b[39m\u001b[38;5;241m.\u001b[39mservices_instances[service_type] \u001b[38;5;241m=\u001b[39m target_service(\n\u001b[1;32m---> 54\u001b[0m         repository\u001b[38;5;241m=\u001b[39m\u001b[38;5;28;43mself\u001b[39;49m\u001b[38;5;241;43m.\u001b[39;49m\u001b[43mget_repository\u001b[49m\u001b[43m(\u001b[49m\n\u001b[0;32m     55\u001b[0m \u001b[43m            \u001b[49m\u001b[43msignature\u001b[49m\u001b[43m(\u001b[49m\u001b[43mtarget_service\u001b[49m\u001b[38;5;241;43m.\u001b[39;49m\u001b[38;5;21;43m__init__\u001b[39;49m\u001b[43m)\u001b[49m\n\u001b[0;32m     56\u001b[0m \u001b[43m            \u001b[49m\u001b[38;5;241;43m.\u001b[39;49m\u001b[43mparameters\u001b[49m\u001b[43m[\u001b[49m\u001b[38;5;124;43m\"\u001b[39;49m\u001b[38;5;124;43mrepository\u001b[39;49m\u001b[38;5;124;43m\"\u001b[39;49m\u001b[43m]\u001b[49m\n\u001b[0;32m     57\u001b[0m \u001b[43m            \u001b[49m\u001b[38;5;241;43m.\u001b[39;49m\u001b[43mannotation\u001b[49m\n\u001b[0;32m     58\u001b[0m \u001b[43m        \u001b[49m\u001b[43m)\u001b[49m,\n\u001b[0;32m     59\u001b[0m         conn_pool\u001b[38;5;241m=\u001b[39m\u001b[38;5;28mself\u001b[39m\u001b[38;5;241m.\u001b[39mconn_pool,\n\u001b[0;32m     60\u001b[0m     )\n\u001b[0;32m     61\u001b[0m \u001b[38;5;28;01mreturn\u001b[39;00m \u001b[38;5;28mself\u001b[39m\u001b[38;5;241m.\u001b[39mservices_instances[service_type]\n",
      "File \u001b[1;32mc:\\VS Code Projects\\in-delivery-backend\\src\\configuration\\app.py:42\u001b[0m, in \u001b[0;36mAppConfiguration.get_repository\u001b[1;34m(self, repository_type)\u001b[0m\n\u001b[0;32m     37\u001b[0m target_repository \u001b[38;5;241m=\u001b[39m \u001b[38;5;28mgetattr\u001b[39m(\n\u001b[0;32m     38\u001b[0m     \u001b[38;5;28mself\u001b[39m\u001b[38;5;241m.\u001b[39mrepositories,\n\u001b[0;32m     39\u001b[0m     re\u001b[38;5;241m.\u001b[39msub(camel_pattern, \u001b[38;5;124m\"\u001b[39m\u001b[38;5;124m_\u001b[39m\u001b[38;5;124m\"\u001b[39m, repository_type\u001b[38;5;241m.\u001b[39m\u001b[38;5;18m__name__\u001b[39m)\u001b[38;5;241m.\u001b[39mlower(),\n\u001b[0;32m     40\u001b[0m )\n\u001b[0;32m     41\u001b[0m \u001b[38;5;28;01mif\u001b[39;00m repository_type \u001b[38;5;129;01mnot\u001b[39;00m \u001b[38;5;129;01min\u001b[39;00m \u001b[38;5;28mself\u001b[39m\u001b[38;5;241m.\u001b[39mrepositories_instances:\n\u001b[1;32m---> 42\u001b[0m     \u001b[38;5;28mself\u001b[39m\u001b[38;5;241m.\u001b[39mrepositories_instances[repository_type] \u001b[38;5;241m=\u001b[39m \u001b[43mtarget_repository\u001b[49m\u001b[43m(\u001b[49m\n\u001b[0;32m     43\u001b[0m \u001b[43m        \u001b[49m\u001b[43mconn_pool\u001b[49m\u001b[38;5;241;43m=\u001b[39;49m\u001b[38;5;28;43mself\u001b[39;49m\u001b[38;5;241;43m.\u001b[39;49m\u001b[43mconn_pool\u001b[49m\n\u001b[0;32m     44\u001b[0m \u001b[43m    \u001b[49m\u001b[43m)\u001b[49m\n\u001b[0;32m     45\u001b[0m \u001b[38;5;28;01mreturn\u001b[39;00m \u001b[38;5;28mself\u001b[39m\u001b[38;5;241m.\u001b[39mrepositories_instances[repository_type]\n",
      "\u001b[1;31mTypeError\u001b[0m: Repository.__init__() got an unexpected keyword argument 'conn_pool'"
     ]
    }
   ],
   "source": [
    "from configuration.app import AppConfiguration\n",
    "from configuration.current import get_app_configuration\n",
    "from db import get_connection_pool\n",
    "\n",
    "from services.category_service import CategoryService\n",
    "from core.config import settings\n",
    "\n",
    "app_configuration: AppConfiguration = await get_app_configuration(conn_pool=await get_connection_pool(settings.postgres))\n",
    "\n",
    "print(app_configuration.get_service(CategoryService))"
   ]
  }
 ],
 "metadata": {
  "kernelspec": {
   "display_name": "in-delivery-backend-vlLOVwEN-py3.12",
   "language": "python",
   "name": "python3"
  },
  "language_info": {
   "codemirror_mode": {
    "name": "ipython",
    "version": 3
   },
   "file_extension": ".py",
   "mimetype": "text/x-python",
   "name": "python",
   "nbconvert_exporter": "python",
   "pygments_lexer": "ipython3",
   "version": "3.12.1"
  }
 },
 "nbformat": 4,
 "nbformat_minor": 2
}
