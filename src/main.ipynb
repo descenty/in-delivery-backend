{
 "cells": [
  {
   "cell_type": "code",
   "execution_count": 1,
   "metadata": {},
   "outputs": [
    {
     "name": "stdout",
     "output_type": "stream",
     "text": [
      "<services.order_service.OrderServiceImpl object at 0x000001E9EC2421E0>\n"
     ]
    }
   ],
   "source": [
    "from configuration.current import app_configuration\n",
    "\n",
    "from services.order_service import OrderService\n",
    "\n",
    "print(app_configuration.get_service(OrderService))"
   ]
  },
  {
   "cell_type": "code",
   "execution_count": 2,
   "metadata": {},
   "outputs": [
    {
     "name": "stdout",
     "output_type": "stream",
     "text": [
      "User already exists\n",
      "eyJhbGciOiJSUzI1NiIsInR5cCIgOiAiSldUIiwia2lkIiA6ICJHWHhKZi1jOUwzb0tqUkN1SVh3alpkUEJBMmk4VFBBSWc5ZWZQRGxRdG9rIn0.eyJleHAiOjE3MDI3Mjg3MzQsImlhdCI6MTcwMjcyODQzNCwianRpIjoiZDM1YWMwMDYtMTQ2MS00ZjcxLWI3ZDMtZjNkNjA0Zjg4NWY2IiwiaXNzIjoiaHR0cHM6Ly9kZXNjZW50eS5ydTo4NDQzL3JlYWxtcy9pbi1kZWxpdmVyeSIsImF1ZCI6ImFjY291bnQiLCJzdWIiOiIzMWU4MWZkZi04ZjYxLTRkYTYtYTAyYS0xZTMzNTUzZTc4ZjEiLCJ0eXAiOiJCZWFyZXIiLCJhenAiOiJiYWNrZW5kIiwic2Vzc2lvbl9zdGF0ZSI6IjgzYmYwOGRmLThhYWUtNGNjYS1iNDc0LTU4MjRiYmY5MGNhNSIsImFjciI6IjEiLCJhbGxvd2VkLW9yaWdpbnMiOlsiKiJdLCJyZWFsbV9hY2Nlc3MiOnsicm9sZXMiOlsiZGVmYXVsdC1yb2xlcy1pbi1kZWxpdmVyeSIsIm9mZmxpbmVfYWNjZXNzIiwiYWRtaW4iLCJ1bWFfYXV0aG9yaXphdGlvbiJdfSwicmVzb3VyY2VfYWNjZXNzIjp7ImFjY291bnQiOnsicm9sZXMiOlsibWFuYWdlLWFjY291bnQiLCJtYW5hZ2UtYWNjb3VudC1saW5rcyIsInZpZXctcHJvZmlsZSJdfX0sInNjb3BlIjoicHJvZmlsZSBlbWFpbCIsInNpZCI6IjgzYmYwOGRmLThhYWUtNGNjYS1iNDc0LTU4MjRiYmY5MGNhNSIsImVtYWlsX3ZlcmlmaWVkIjpmYWxzZSwicHJlZmVycmVkX3VzZXJuYW1lIjoiZDN2ZXJ0eUB5YW5kZXgucnUiLCJlbWFpbCI6ImQzdmVydHlAeWFuZGV4LnJ1In0.Umxtei6x8VCOmz8SU1LAm_R1IrSo58uwwlVcjrpREL7ZQgKF85dw6-IcPu2_QGy50voIvUzm-tEcCU1SP9vg7X1Q6ebrwFSPelczhhkauAUOuayk7y55MKsTR64UBBd3NIx7Ll_Zvwa1ulcg4u87iTr48ox1ckxuHus-hZVlmj6qgAxVRR4xouJCundDdSf0sdvoX6o4CrKLEOeuBIwQ6gBxHrlTFKhP937fflKDz9dMPVTtk46OzxGovI0zy1mk2xYWh5xsemraa7CkBxZv0ApwoAunYgw-rZGBNtFzEG9eMLyB3ZylGU_Kbs3aYaqvV_yxjlq3b5ypljN-tFxFFg\n"
     ]
    }
   ],
   "source": [
    "from schemas.auth import AuthRequest\n",
    "from services.auth_service import AuthServiceImpl\n",
    "\n",
    "auth_service = AuthServiceImpl()\n",
    "\n",
    "username=\"d3verty@yandex.ru\"\n",
    "password=\"qweasdzxc\"\n",
    "\n",
    "try:\n",
    "    print(await auth_service.signup(AuthRequest(username=username, password=password)))\n",
    "except Exception as e:\n",
    "    print(e)\n",
    "print((await auth_service.signin(AuthRequest(username=username, password=password))).access_token)"
   ]
  },
  {
   "cell_type": "code",
   "execution_count": 7,
   "metadata": {},
   "outputs": [
    {
     "data": {
      "text/plain": [
       "{'exp': 1702721211,\n",
       " 'iat': 1702720911,\n",
       " 'jti': '8547cef9-a030-429f-8100-7297ef0e2334',\n",
       " 'iss': 'https://descenty.ru:8443/realms/in-delivery',\n",
       " 'aud': 'account',\n",
       " 'sub': '31e81fdf-8f61-4da6-a02a-1e33553e78f1',\n",
       " 'typ': 'Bearer',\n",
       " 'azp': 'backend',\n",
       " 'session_state': '32fba2b9-60b4-4aca-822a-bb703a8bb6d6',\n",
       " 'acr': '1',\n",
       " 'allowed-origins': ['*'],\n",
       " 'realm_access': {'roles': ['default-roles-in-delivery',\n",
       "   'offline_access',\n",
       "   'admin',\n",
       "   'uma_authorization']},\n",
       " 'resource_access': {'account': {'roles': ['manage-account',\n",
       "    'manage-account-links',\n",
       "    'view-profile']}},\n",
       " 'scope': 'profile email',\n",
       " 'sid': '32fba2b9-60b4-4aca-822a-bb703a8bb6d6',\n",
       " 'email_verified': False,\n",
       " 'preferred_username': 'd3verty@yandex.ru',\n",
       " 'email': 'd3verty@yandex.ru'}"
      ]
     },
     "execution_count": 7,
     "metadata": {},
     "output_type": "execute_result"
    }
   ],
   "source": [
    "import jwt\n",
    "\n",
    "public_key = \"-----BEGIN PUBLIC KEY-----\\nMIIBIjANBgkqhkiG9w0BAQEFAAOCAQ8AMIIBCgKCAQEA2KJQHYTuSsxL7pQeCVzmjpJMh4iflBdmrgUx5yMoNuy+IfanNFIvFlqVtmXGryzUQwhidTCztyjwGkGAwF5XhVlpRi/BKl7TxZrWuxgSPYVO5aIEHCjkA72HlzBUUmPfLXwYrkxenyUJjUycgJ5TuRud2R3oLNahEhv6ZGjtJlp/i8bC45Evf8wfGe94mxObSkCIufjF/l+cKKJ/vIqkCzSEqGgH+iqsXNqHr+93RK02y3ZaK+2rPQoR3ataWcWNs+xNgARGR+jK2kkGf77s4ksxUX9Y6THuoo6X560BQ6HS+Sam2XwXxZVm1wxiIQXdfnA3SjD3pLTGGi/NA0J0YwIDAQAB\\n-----END PUBLIC KEY-----\"\n",
    "\n",
    "access_token = \"eyJhbGciOiJSUzI1NiIsInR5cCIgOiAiSldUIiwia2lkIiA6ICJHWHhKZi1jOUwzb0tqUkN1SVh3alpkUEJBMmk4VFBBSWc5ZWZQRGxRdG9rIn0.eyJleHAiOjE3MDI3MjEyMTEsImlhdCI6MTcwMjcyMDkxMSwianRpIjoiODU0N2NlZjktYTAzMC00MjlmLTgxMDAtNzI5N2VmMGUyMzM0IiwiaXNzIjoiaHR0cHM6Ly9kZXNjZW50eS5ydTo4NDQzL3JlYWxtcy9pbi1kZWxpdmVyeSIsImF1ZCI6ImFjY291bnQiLCJzdWIiOiIzMWU4MWZkZi04ZjYxLTRkYTYtYTAyYS0xZTMzNTUzZTc4ZjEiLCJ0eXAiOiJCZWFyZXIiLCJhenAiOiJiYWNrZW5kIiwic2Vzc2lvbl9zdGF0ZSI6IjMyZmJhMmI5LTYwYjQtNGFjYS04MjJhLWJiNzAzYThiYjZkNiIsImFjciI6IjEiLCJhbGxvd2VkLW9yaWdpbnMiOlsiKiJdLCJyZWFsbV9hY2Nlc3MiOnsicm9sZXMiOlsiZGVmYXVsdC1yb2xlcy1pbi1kZWxpdmVyeSIsIm9mZmxpbmVfYWNjZXNzIiwiYWRtaW4iLCJ1bWFfYXV0aG9yaXphdGlvbiJdfSwicmVzb3VyY2VfYWNjZXNzIjp7ImFjY291bnQiOnsicm9sZXMiOlsibWFuYWdlLWFjY291bnQiLCJtYW5hZ2UtYWNjb3VudC1saW5rcyIsInZpZXctcHJvZmlsZSJdfX0sInNjb3BlIjoicHJvZmlsZSBlbWFpbCIsInNpZCI6IjMyZmJhMmI5LTYwYjQtNGFjYS04MjJhLWJiNzAzYThiYjZkNiIsImVtYWlsX3ZlcmlmaWVkIjpmYWxzZSwicHJlZmVycmVkX3VzZXJuYW1lIjoiZDN2ZXJ0eUB5YW5kZXgucnUiLCJlbWFpbCI6ImQzdmVydHlAeWFuZGV4LnJ1In0.BzHY0km4EwwRg118rxfnktc1AL3G6A7YbCQesP-tcnyXUPuWGMB7D4mtZhBDggxM83fZSQVaRiJ03v-1vCCIqHDvaEC0JxsE--Sp6E3DxjGtIsFrDj327B5ew2PaAhXplanv6DifMqJ3OYXvIJllaegga7qmx7IH0fym84u1LJ4aCs60MFfUBbuhWi4tFCLWCeQFcgtvglg_WzqLmVN2BtB1Am8kRRP7Ukcnho3SsJMq9HemOTZFvHJ-291G2UpXuAcrLiwmUmiYf2CnVva8_mET_CcClejbiJnqfN5BA8dSk2qU2Iwcfvp6bggxdmeoK_9kiyTEemydClkg4hAVvA\"\n",
    "\n",
    "jwt.decode(access_token, public_key, algorithms=[\"RS256\"], audience=\"account\")"
   ]
  }
 ],
 "metadata": {
  "kernelspec": {
   "display_name": "in-delivery-backend-vlLOVwEN-py3.12",
   "language": "python",
   "name": "python3"
  },
  "language_info": {
   "codemirror_mode": {
    "name": "ipython",
    "version": 3
   },
   "file_extension": ".py",
   "mimetype": "text/x-python",
   "name": "python",
   "nbconvert_exporter": "python",
   "pygments_lexer": "ipython3",
   "version": "3.12.1"
  }
 },
 "nbformat": 4,
 "nbformat_minor": 2
}
